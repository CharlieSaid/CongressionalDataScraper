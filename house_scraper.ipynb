{
 "cells": [
  {
   "cell_type": "markdown",
   "metadata": {},
   "source": [
    "# House Scraper"
   ]
  },
  {
   "cell_type": "code",
   "execution_count": 3,
   "metadata": {},
   "outputs": [],
   "source": [
    "import scipy.linalg as sci\n",
    "import numpy as np\n",
    "import requests\n",
    "import xml.etree.ElementTree as ET\n",
    "import pandas as pd\n",
    "import sympy as sp\n",
    "import seaborn as sns\n",
    "import matplotlib.pyplot as plt\n",
    "from bs4 import BeautifulSoup as bs\n",
    "import math\n",
    "import time"
   ]
  },
  {
   "cell_type": "code",
   "execution_count": 4,
   "metadata": {},
   "outputs": [],
   "source": [
    "def fetch_page(url):\n",
    "    response = requests.get(url)\n",
    "    # 200 is a success code\n",
    "    if response.status_code == 200:\n",
    "        return response.content\n",
    "    else:\n",
    "        print(\"Failed to fetch page:\", url)\n",
    "        return None"
   ]
  },
  {
   "cell_type": "code",
   "execution_count": 15,
   "metadata": {},
   "outputs": [
    {
     "name": "stdout",
     "output_type": "stream",
     "text": [
      "Beginning scrape of Congress 101, Session 2 which occurred in 1990\n",
      "Beginning scrape of Congress 102, Session 1 which occurred in 1991\n",
      "Beginning scrape of Congress 102, Session 2 which occurred in 1992\n",
      "Beginning scrape of Congress 103, Session 1 which occurred in 1993\n",
      "Beginning scrape of Congress 103, Session 2 which occurred in 1994\n",
      "Beginning scrape of Congress 104, Session 1 which occurred in 1995\n",
      "Beginning scrape of Congress 104, Session 2 which occurred in 1996\n",
      "Beginning scrape of Congress 105, Session 1 which occurred in 1997\n",
      "Beginning scrape of Congress 105, Session 2 which occurred in 1998\n",
      "Beginning scrape of Congress 106, Session 1 which occurred in 1999\n",
      "Beginning scrape of Congress 106, Session 2 which occurred in 2000\n",
      "Beginning scrape of Congress 107, Session 1 which occurred in 2001\n",
      "Beginning scrape of Congress 107, Session 2 which occurred in 2002\n",
      "Beginning scrape of Congress 108, Session 1 which occurred in 2003\n",
      "Beginning scrape of Congress 108, Session 2 which occurred in 2004\n",
      "Beginning scrape of Congress 109, Session 1 which occurred in 2005\n",
      "Beginning scrape of Congress 109, Session 2 which occurred in 2006\n",
      "Beginning scrape of Congress 110, Session 1 which occurred in 2007\n",
      "Beginning scrape of Congress 110, Session 2 which occurred in 2008\n",
      "Beginning scrape of Congress 111, Session 1 which occurred in 2009\n",
      "Beginning scrape of Congress 111, Session 2 which occurred in 2010\n",
      "Beginning scrape of Congress 112, Session 1 which occurred in 2011\n",
      "Beginning scrape of Congress 112, Session 2 which occurred in 2012\n",
      "Beginning scrape of Congress 113, Session 1 which occurred in 2013\n",
      "Beginning scrape of Congress 113, Session 2 which occurred in 2014\n",
      "Beginning scrape of Congress 114, Session 1 which occurred in 2015\n",
      "Beginning scrape of Congress 114, Session 2 which occurred in 2016\n",
      "Beginning scrape of Congress 115, Session 1 which occurred in 2017\n",
      "Beginning scrape of Congress 115, Session 2 which occurred in 2018\n",
      "Beginning scrape of Congress 116, Session 1 which occurred in 2019\n",
      "Beginning scrape of Congress 116, Session 2 which occurred in 2020\n",
      "Beginning scrape of Congress 117, Session 1 which occurred in 2021\n",
      "Beginning scrape of Congress 117, Session 2 which occurred in 2022\n",
      "Beginning scrape of Congress 118, Session 1 which occurred in 2023\n"
     ]
    }
   ],
   "source": [
    "base_house_url = 'https://clerk.house.gov/Votes/'\n",
    "\n",
    "congress_list = np.arange(101.5,118.5,0.5)\n",
    "\n",
    "for l in congress_list:\n",
    "    congress = int(l)\n",
    "    if l%1 == .5:\n",
    "        session = 2\n",
    "    else:\n",
    "        session = 1\n",
    "    year = int(l*2+1787)\n",
    "\n",
    "    print(f'Beginning scrape of Congress {congress}, Session {session} which occurred in {year}')\n"
   ]
  },
  {
   "cell_type": "markdown",
   "metadata": {},
   "source": [
    "# Some Test Stuff"
   ]
  },
  {
   "cell_type": "code",
   "execution_count": null,
   "metadata": {},
   "outputs": [],
   "source": []
  }
 ],
 "metadata": {
  "kernelspec": {
   "display_name": "base",
   "language": "python",
   "name": "python3"
  },
  "language_info": {
   "codemirror_mode": {
    "name": "ipython",
    "version": 3
   },
   "file_extension": ".py",
   "mimetype": "text/x-python",
   "name": "python",
   "nbconvert_exporter": "python",
   "pygments_lexer": "ipython3",
   "version": "3.11.8"
  }
 },
 "nbformat": 4,
 "nbformat_minor": 2
}
